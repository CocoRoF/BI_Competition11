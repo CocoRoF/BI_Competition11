{
 "cells": [
  {
   "cell_type": "code",
   "execution_count": 16,
   "metadata": {},
   "outputs": [],
   "source": [
    "import pandas as pd\n",
    "from selenium import webdriver\n",
    "from bs4 import BeautifulSoup\n",
    "import requests\n",
    "from selenium.webdriver.common.by import By\n",
    "from selenium.webdriver.chrome.options import Options\n",
    "from selenium.webdriver.chrome.service import Service\n",
    "from webdriver_manager.chrome import ChromeDriverManager\n",
    "import time\n",
    "from pathos.multiprocessing import ProcessingPool\n",
    "from pathos.multiprocessing import ProcessPool\n",
    "import os\n",
    "import progressbar\n",
    "import pickle"
   ]
  },
  {
   "cell_type": "code",
   "execution_count": 11,
   "metadata": {},
   "outputs": [],
   "source": [
    "# API_Key = 'dTmlseKULi9karfsRKYbD+eqcqRKnNaDe5lL+yBpSRf9g+Tw0Aon1U3DxxDBqBUTNBXQEr1Gob6yWEMrosL20Q=='\n",
    "# API_Key = 'dTmlseKULi9karfsRKYbD%2BeqcqRKnNaDe5lL%2ByBpSRf9g%2BTw0Aon1U3DxxDBqBUTNBXQEr1Gob6yWEMrosL20Q%3D%3D'\n",
    "API_Key = 'MpwMxOD20l9EmTMAf8EWXBuQSAigPDVyZu%2FySxfw4jLVdq1Tq1dJQXDPaNuEt9tDvynXRzgnVPwU%2BsLJdusf0g%3D%3D'\n"
   ]
  },
  {
   "cell_type": "code",
   "execution_count": 14,
   "metadata": {},
   "outputs": [
    {
     "name": "stdout",
     "output_type": "stream",
     "text": [
      "b'<?xml version=\"1.0\" encoding=\"UTF-8\" standalone=\"yes\"?><response><header><resultCode>30</resultCode><resultMsg>SERVICE KEY IS NOT REGISTERED ERROR.</resultMsg><pageNo>1</pageNo><numOfRows>1000</numOfRows><totalCount>0</totalCount><pageSize>1</pageSize><startPage>1</startPage></header></response>'\n"
     ]
    }
   ],
   "source": [
    "url = 'https://openapi.kpx.or.kr/openapi/sukub5mMaxDatetime/getSukub5mMaxDatetime'\n",
    "params ={'ServiceKey' : API_Key}\n",
    "\n",
    "response = requests.get(url, params=params)\n",
    "print(response.content)"
   ]
  },
  {
   "cell_type": "code",
   "execution_count": 17,
   "metadata": {},
   "outputs": [
    {
     "name": "stderr",
     "output_type": "stream",
     "text": [
      "[WDM] - Downloading: 100%|██████████| 6.30M/6.30M [00:00<00:00, 54.0MB/s]\n"
     ]
    }
   ],
   "source": [
    "url = 'https://epsis.kpx.or.kr/epsisnew/selectEkgeEpsMepRealChart.do?menuId=030300'\n",
    "\n",
    "chrome_options = Options()\n",
    "# chrome_options.add_argument(\"--headless\")\n",
    "driver = webdriver.Chrome(service=Service(ChromeDriverManager().install()), options=chrome_options)\n",
    "\n",
    "# 원하는 사이트 로드\n",
    "driver.get(url)"
   ]
  },
  {
   "cell_type": "code",
   "execution_count": 18,
   "metadata": {},
   "outputs": [],
   "source": [
    "soup = BeautifulSoup(driver.page_source, 'html.parser')\n",
    "url_list = soup.select('div.rMateH5__rMateGrid')"
   ]
  },
  {
   "cell_type": "code",
   "execution_count": 22,
   "metadata": {},
   "outputs": [
    {
     "data": {
      "text/plain": [
       "[<span class=\"rMateH5__DataGridItemRenderer rMateH5__DataGridColumn1049\" style=\"position: absolute; overflow: hidden; visibility: hidden; width: 170px; overflow-wrap: normal; white-space: nowrap; display: inline;\"> </span>,\n",
       " <span class=\"rMateH5__DataGridItemRenderer rMateH5__DataGridColumn1049\" style=\"position: absolute; overflow: hidden; width: 170px; overflow-wrap: normal; white-space: nowrap; display: inline; height: 17px; left: 0px; top: 42px;\">2023-01-01 23:55</span>,\n",
       " <span class=\"rMateH5__DataGridItemRenderer rMateH5__DataGridColumn1049\" style=\"position: absolute; overflow: hidden; width: 170px; overflow-wrap: normal; white-space: nowrap; display: inline; height: 17px; left: 0px; top: 73px;\">2023-01-01 23:50</span>,\n",
       " <span class=\"rMateH5__DataGridItemRenderer rMateH5__DataGridColumn1049\" style=\"position: absolute; overflow: hidden; width: 170px; overflow-wrap: normal; white-space: nowrap; display: inline; height: 17px; left: 0px; top: 104px;\">2023-01-01 23:45</span>,\n",
       " <span class=\"rMateH5__DataGridItemRenderer rMateH5__DataGridColumn1049\" style=\"position: absolute; overflow: hidden; width: 170px; overflow-wrap: normal; white-space: nowrap; display: inline; height: 17px; left: 0px; top: 135px;\">2023-01-01 23:40</span>,\n",
       " <span class=\"rMateH5__DataGridItemRenderer rMateH5__DataGridColumn1049\" style=\"position: absolute; overflow: hidden; width: 170px; overflow-wrap: normal; white-space: nowrap; display: inline; height: 17px; left: 0px; top: 166px;\">2023-01-01 23:35</span>,\n",
       " <span class=\"rMateH5__DataGridItemRenderer rMateH5__DataGridColumn1049\" style=\"position: absolute; overflow: hidden; width: 170px; overflow-wrap: normal; white-space: nowrap; display: inline; height: 17px; left: 0px; top: 197px;\">2023-01-01 23:30</span>,\n",
       " <span class=\"rMateH5__DataGridItemRenderer rMateH5__DataGridColumn1049\" style=\"position: absolute; overflow: hidden; width: 170px; overflow-wrap: normal; white-space: nowrap; display: inline; height: 17px; left: 0px; top: 228px;\">2023-01-01 23:25</span>,\n",
       " <span class=\"rMateH5__DataGridItemRenderer rMateH5__DataGridColumn1049\" style=\"position: absolute; overflow: hidden; width: 170px; overflow-wrap: normal; white-space: nowrap; display: inline; height: 17px; left: 0px; top: 259px;\">2023-01-01 23:20</span>,\n",
       " <span class=\"rMateH5__DataGridItemRenderer rMateH5__DataGridColumn1049\" style=\"position: absolute; overflow: hidden; width: 170px; overflow-wrap: normal; white-space: nowrap; display: inline; height: 17px; left: 0px; top: 290px;\">2023-01-01 23:15</span>,\n",
       " <span class=\"rMateH5__DataGridItemRenderer rMateH5__DataGridColumn1049\" style=\"position: absolute; overflow: hidden; width: 170px; overflow-wrap: normal; white-space: nowrap; display: inline; height: 17px; left: 0px; top: 321px;\">2023-01-01 23:10</span>,\n",
       " <span class=\"rMateH5__DataGridItemRenderer rMateH5__DataGridColumn1049\" style=\"position: absolute; overflow: hidden; width: 170px; overflow-wrap: normal; white-space: nowrap; display: inline; height: 17px; left: 0px; top: 352px;\">2023-01-01 23:05</span>,\n",
       " <span class=\"rMateH5__DataGridItemRenderer rMateH5__DataGridColumn1049\" style=\"position: absolute; overflow: hidden; width: 170px; overflow-wrap: normal; white-space: nowrap; display: inline; height: 17px; left: 0px; top: 383px;\">2023-01-01 23:00</span>,\n",
       " <span class=\"rMateH5__DataGridItemRenderer rMateH5__DataGridColumn1049\" style=\"position: absolute; overflow: hidden; width: 170px; overflow-wrap: normal; white-space: nowrap; display: inline; height: 17px; left: 0px; top: 414px;\">2023-01-01 22:55</span>,\n",
       " <span class=\"rMateH5__DataGridItemRenderer rMateH5__DataGridColumn1049\" style=\"position: absolute; overflow: hidden; width: 170px; overflow-wrap: normal; white-space: nowrap; display: inline; height: 17px; left: 0px; top: 445px;\">2023-01-01 22:50</span>,\n",
       " <span class=\"rMateH5__DataGridItemRenderer rMateH5__DataGridColumn1049\" style=\"position: absolute; overflow: hidden; width: 170px; overflow-wrap: normal; white-space: nowrap; display: inline; height: 17px; left: 0px; top: 476px;\">2023-01-01 22:45</span>,\n",
       " <span class=\"rMateH5__DataGridItemRenderer rMateH5__DataGridColumn1049\" style=\"position: absolute; overflow: hidden; width: 170px; overflow-wrap: normal; white-space: nowrap; display: inline; height: 17px; left: 0px; top: 507px;\">2023-01-01 22:40</span>,\n",
       " <span class=\"rMateH5__DataGridItemRenderer rMateH5__DataGridColumn1049\" style=\"position: absolute; overflow: hidden; width: 170px; overflow-wrap: normal; white-space: nowrap; display: inline; height: 17px; left: 0px; top: 538px;\">2023-01-01 22:35</span>,\n",
       " <span class=\"rMateH5__DataGridItemRenderer rMateH5__DataGridColumn1049\" style=\"position: absolute; overflow: hidden; width: 170px; overflow-wrap: normal; white-space: nowrap; display: inline; height: 17px; left: 0px; top: 569px;\">2023-01-01 22:30</span>]"
      ]
     },
     "execution_count": 22,
     "metadata": {},
     "output_type": "execute_result"
    }
   ],
   "source": [
    "datetime = soup.select('span.rMateH5__DataGridItemRenderer.rMateH5__DataGridColumn1049')\n",
    "datetime"
   ]
  },
  {
   "cell_type": "code",
   "execution_count": null,
   "metadata": {},
   "outputs": [],
   "source": []
  }
 ],
 "metadata": {
  "kernelspec": {
   "display_name": "python310",
   "language": "python",
   "name": "python3"
  },
  "language_info": {
   "codemirror_mode": {
    "name": "ipython",
    "version": 3
   },
   "file_extension": ".py",
   "mimetype": "text/x-python",
   "name": "python",
   "nbconvert_exporter": "python",
   "pygments_lexer": "ipython3",
   "version": "3.9.13"
  },
  "orig_nbformat": 4
 },
 "nbformat": 4,
 "nbformat_minor": 2
}
