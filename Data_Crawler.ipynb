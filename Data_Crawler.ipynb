{
 "cells": [
  {
   "cell_type": "code",
   "execution_count": 1,
   "metadata": {},
   "outputs": [],
   "source": [
    "import requests\n",
    "from bs4 import BeautifulSoup\n",
    "import pandas as pd\n",
    "import xml.etree.ElementTree as elementTree"
   ]
  },
  {
   "cell_type": "code",
   "execution_count": 2,
   "metadata": {},
   "outputs": [],
   "source": [
    "cntry_code = pd.read_excel(r'G:\\내 드라이브\\work_space\\Project_Files\\BI공모전\\분석과제 2\\관세청조회코드_v1.0.xlsx', sheet_name=2)\n",
    "cntry_code = cntry_code[2:]\n",
    "cntry_code.reset_index(inplace=True, drop=True)"
   ]
  },
  {
   "cell_type": "code",
   "execution_count": 3,
   "metadata": {},
   "outputs": [],
   "source": [
    "cntry_code.columns = list(cntry_code.iloc[0])\n",
    "cntry_code = cntry_code[1:]\n",
    "cntry_code.reset_index(inplace=True, drop=True)\n",
    "cntry_code = cntry_code[:-1]"
   ]
  },
  {
   "cell_type": "code",
   "execution_count": 8,
   "metadata": {},
   "outputs": [],
   "source": [
    "cntry_map_dict = dict()\n",
    "for i in range(len(cntry_code)):\n",
    "    cntry_map_dict[cntry_code.loc[i, '국가코드']] = cntry_code.loc[i, '국가명']\n",
    "    \n",
    "\n",
    "cntry_list = list(cntry_code['국가코드'])    "
   ]
  },
  {
   "cell_type": "code",
   "execution_count": 8,
   "metadata": {},
   "outputs": [],
   "source": [
    "new_cntry = pd.read_csv('G:\\내 드라이브\\work_space\\Project_Files\\BI공모전\\분석과제 2\\Country_code_mapping_table.csv')\n",
    "search_list = list(new_cntry['국가코드'])"
   ]
  },
  {
   "cell_type": "code",
   "execution_count": 2,
   "metadata": {},
   "outputs": [],
   "source": [
    "API_Key = 'dTmlseKULi9karfsRKYbD%2BeqcqRKnNaDe5lL%2ByBpSRf9g%2BTw0Aon1U3DxxDBqBUTNBXQEr1Gob6yWEMrosL20Q%3D%3D'\n",
    "\n",
    "cntry_code = ''"
   ]
  },
  {
   "cell_type": "code",
   "execution_count": null,
   "metadata": {},
   "outputs": [],
   "source": [
    "url = 'http://apis.data.go.kr/1220000/nitemtrade/getNitemtradeList'\n",
    "params ={'serviceKey' : API_Key}\n",
    "\n",
    "response = requests.get(url, params=params)\n",
    "print(response.content)"
   ]
  },
  {
   "cell_type": "code",
   "execution_count": 3,
   "metadata": {},
   "outputs": [],
   "source": [
    "get_url = f'{url}?serviceKey={API_Key}&strtYymm={start_point}&endYymm={end_point}&hsSgn={hs_code}'"
   ]
  },
  {
   "cell_type": "code",
   "execution_count": 26,
   "metadata": {},
   "outputs": [],
   "source": [
    "get_url = f'{url}?serviceKey={API_Key}&strtYymm={start_point}&endYymm={end_point}'"
   ]
  },
  {
   "cell_type": "code",
   "execution_count": 27,
   "metadata": {},
   "outputs": [
    {
     "name": "stderr",
     "output_type": "stream",
     "text": [
      "/Users/jang/opt/anaconda3/envs/python_39/lib/python3.9/site-packages/urllib3/connectionpool.py:1043: InsecureRequestWarning: Unverified HTTPS request is being made to host 'apis.data.go.kr'. Adding certificate verification is strongly advised. See: https://urllib3.readthedocs.io/en/1.26.x/advanced-usage.html#ssl-warnings\n",
      "  warnings.warn(\n"
     ]
    }
   ],
   "source": [
    "root = elementTree.fromstring(requests.get(get_url, verify=False).text)"
   ]
  },
  {
   "cell_type": "code",
   "execution_count": null,
   "metadata": {},
   "outputs": [],
   "source": [
    "item_list = root.findall('./body/items/item')\n",
    "for i in item_list:\n",
    "    items = i.find('./balPayments')\n",
    "    print(items.text)"
   ]
  },
  {
   "cell_type": "code",
   "execution_count": 14,
   "metadata": {},
   "outputs": [
    {
     "name": "stdout",
     "output_type": "stream",
     "text": [
      "items\n"
     ]
    }
   ],
   "source": [
    "for child in root.iter('items'):\n",
    "    print(child.tag)"
   ]
  },
  {
   "cell_type": "code",
   "execution_count": 90,
   "metadata": {},
   "outputs": [],
   "source": [
    "a = root[0].get('body')\n",
    "a"
   ]
  },
  {
   "cell_type": "code",
   "execution_count": null,
   "metadata": {},
   "outputs": [],
   "source": []
  }
 ],
 "metadata": {
  "kernelspec": {
   "display_name": "base",
   "language": "python",
   "name": "python3"
  },
  "language_info": {
   "codemirror_mode": {
    "name": "ipython",
    "version": 3
   },
   "file_extension": ".py",
   "mimetype": "text/x-python",
   "name": "python",
   "nbconvert_exporter": "python",
   "pygments_lexer": "ipython3",
   "version": "3.10.9"
  },
  "orig_nbformat": 4
 },
 "nbformat": 4,
 "nbformat_minor": 2
}
