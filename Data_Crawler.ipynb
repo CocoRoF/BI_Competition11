{
 "cells": [
  {
   "cell_type": "code",
   "execution_count": 1,
   "metadata": {},
   "outputs": [],
   "source": [
    "import requests\n",
    "from bs4 import BeautifulSoup\n",
    "import pandas as pd\n",
    "import xml.etree.ElementTree as elementTree"
   ]
  },
  {
   "cell_type": "code",
   "execution_count": 2,
   "metadata": {},
   "outputs": [],
   "source": [
    "cntry_code = pd.read_excel(r'/Users/jang/Library/CloudStorage/GoogleDrive-gkfua00@gmail.com/내 드라이브/work_space/Project/BI_Competition/관세청조회코드_v1.0.xlsx', sheet_name=2)\n",
    "cntry_code = cntry_code[2:]\n",
    "cntry_code.reset_index(inplace=True, drop=True)"
   ]
  },
  {
   "cell_type": "code",
   "execution_count": 3,
   "metadata": {},
   "outputs": [],
   "source": [
    "cntry_code.columns = list(cntry_code.iloc[0])\n",
    "cntry_code = cntry_code[1:]\n",
    "cntry_code.reset_index(inplace=True, drop=True)\n",
    "cntry_code = cntry_code[:-1]"
   ]
  },
  {
   "cell_type": "code",
   "execution_count": 6,
   "metadata": {},
   "outputs": [
    {
     "data": {
      "text/html": [
       "<div>\n",
       "<style scoped>\n",
       "    .dataframe tbody tr th:only-of-type {\n",
       "        vertical-align: middle;\n",
       "    }\n",
       "\n",
       "    .dataframe tbody tr th {\n",
       "        vertical-align: top;\n",
       "    }\n",
       "\n",
       "    .dataframe thead th {\n",
       "        text-align: right;\n",
       "    }\n",
       "</style>\n",
       "<table border=\"1\" class=\"dataframe\">\n",
       "  <thead>\n",
       "    <tr style=\"text-align: right;\">\n",
       "      <th></th>\n",
       "      <th>국가코드</th>\n",
       "      <th>국가명</th>\n",
       "    </tr>\n",
       "  </thead>\n",
       "  <tbody>\n",
       "    <tr>\n",
       "      <th>0</th>\n",
       "      <td>AD</td>\n",
       "      <td>안도라</td>\n",
       "    </tr>\n",
       "    <tr>\n",
       "      <th>1</th>\n",
       "      <td>AE</td>\n",
       "      <td>아랍에미리트 연합</td>\n",
       "    </tr>\n",
       "    <tr>\n",
       "      <th>2</th>\n",
       "      <td>AF</td>\n",
       "      <td>아프카니스탄</td>\n",
       "    </tr>\n",
       "    <tr>\n",
       "      <th>3</th>\n",
       "      <td>AG</td>\n",
       "      <td>안티가 바부다</td>\n",
       "    </tr>\n",
       "    <tr>\n",
       "      <th>4</th>\n",
       "      <td>AI</td>\n",
       "      <td>앙귈라</td>\n",
       "    </tr>\n",
       "    <tr>\n",
       "      <th>...</th>\n",
       "      <td>...</td>\n",
       "      <td>...</td>\n",
       "    </tr>\n",
       "    <tr>\n",
       "      <th>257</th>\n",
       "      <td>YU</td>\n",
       "      <td>유고</td>\n",
       "    </tr>\n",
       "    <tr>\n",
       "      <th>258</th>\n",
       "      <td>Z1</td>\n",
       "      <td>국제통화기금</td>\n",
       "    </tr>\n",
       "    <tr>\n",
       "      <th>259</th>\n",
       "      <td>ZA</td>\n",
       "      <td>남아프리카</td>\n",
       "    </tr>\n",
       "    <tr>\n",
       "      <th>260</th>\n",
       "      <td>ZM</td>\n",
       "      <td>잠비아</td>\n",
       "    </tr>\n",
       "    <tr>\n",
       "      <th>261</th>\n",
       "      <td>ZW</td>\n",
       "      <td>짐바브웨</td>\n",
       "    </tr>\n",
       "  </tbody>\n",
       "</table>\n",
       "<p>262 rows × 2 columns</p>\n",
       "</div>"
      ],
      "text/plain": [
       "    국가코드        국가명\n",
       "0     AD        안도라\n",
       "1     AE  아랍에미리트 연합\n",
       "2     AF     아프카니스탄\n",
       "3     AG    안티가 바부다\n",
       "4     AI        앙귈라\n",
       "..   ...        ...\n",
       "257   YU         유고\n",
       "258   Z1     국제통화기금\n",
       "259   ZA      남아프리카\n",
       "260   ZM        잠비아\n",
       "261   ZW       짐바브웨\n",
       "\n",
       "[262 rows x 2 columns]"
      ]
     },
     "execution_count": 6,
     "metadata": {},
     "output_type": "execute_result"
    }
   ],
   "source": [
    "cntry_code"
   ]
  },
  {
   "cell_type": "code",
   "execution_count": 8,
   "metadata": {},
   "outputs": [],
   "source": [
    "cntry_map_dict = dict()\n",
    "for i in range(len(cntry_code)):\n",
    "    cntry_map_dict[cntry_code.loc[i, '국가코드']] = cntry_code.loc[i, '국가명']\n",
    "    \n",
    "\n",
    "cntry_list = list(cntry_code['국가코드'])    "
   ]
  },
  {
   "cell_type": "code",
   "execution_count": 10,
   "metadata": {},
   "outputs": [],
   "source": []
  },
  {
   "cell_type": "code",
   "execution_count": 2,
   "metadata": {},
   "outputs": [],
   "source": [
    "API_Key = 'dTmlseKULi9karfsRKYbD%2BeqcqRKnNaDe5lL%2ByBpSRf9g%2BTw0Aon1U3DxxDBqBUTNBXQEr1Gob6yWEMrosL20Q%3D%3D'\n",
    "start_point = '201701'\n",
    "end_point = '201712'\n",
    "hs_code = '0106191000'\n",
    "cntry_code = ''"
   ]
  },
  {
   "cell_type": "code",
   "execution_count": null,
   "metadata": {},
   "outputs": [],
   "source": [
    "url = 'http://apis.data.go.kr/1220000/nitemtrade/getNitemtradeList'\n",
    "params ={'serviceKey' : API_Key, 'strtYymm' : start_point, 'endYymm' : end_point, 'hsSgn' : hs_code, 'cntyCd' : cntry_code }\n",
    "\n",
    "response = requests.get(url, params=params)\n",
    "print(response.content)"
   ]
  },
  {
   "cell_type": "code",
   "execution_count": 3,
   "metadata": {},
   "outputs": [],
   "source": [
    "get_url = f'{url}?serviceKey={API_Key}&strtYymm={start_point}&endYymm={end_point}&hsSgn={hs_code}'"
   ]
  },
  {
   "cell_type": "code",
   "execution_count": 26,
   "metadata": {},
   "outputs": [],
   "source": [
    "get_url = f'{url}?serviceKey={API_Key}&strtYymm={start_point}&endYymm={end_point}'"
   ]
  },
  {
   "cell_type": "code",
   "execution_count": 27,
   "metadata": {},
   "outputs": [
    {
     "name": "stderr",
     "output_type": "stream",
     "text": [
      "/Users/jang/opt/anaconda3/envs/python_39/lib/python3.9/site-packages/urllib3/connectionpool.py:1043: InsecureRequestWarning: Unverified HTTPS request is being made to host 'apis.data.go.kr'. Adding certificate verification is strongly advised. See: https://urllib3.readthedocs.io/en/1.26.x/advanced-usage.html#ssl-warnings\n",
      "  warnings.warn(\n"
     ]
    }
   ],
   "source": [
    "root = elementTree.fromstring(requests.get(get_url, verify=False).text)"
   ]
  },
  {
   "cell_type": "code",
   "execution_count": null,
   "metadata": {},
   "outputs": [],
   "source": [
    "item_list = root.findall('./body/items/item')\n",
    "for i in item_list:\n",
    "    items = i.find('./balPayments')\n",
    "    print(items.text)"
   ]
  },
  {
   "cell_type": "code",
   "execution_count": 14,
   "metadata": {},
   "outputs": [
    {
     "name": "stdout",
     "output_type": "stream",
     "text": [
      "items\n"
     ]
    }
   ],
   "source": [
    "for child in root.iter('items'):\n",
    "    print(child.tag)"
   ]
  },
  {
   "cell_type": "code",
   "execution_count": 90,
   "metadata": {},
   "outputs": [],
   "source": [
    "a = root[0].get('body')\n",
    "a"
   ]
  },
  {
   "cell_type": "code",
   "execution_count": null,
   "metadata": {},
   "outputs": [],
   "source": []
  }
 ],
 "metadata": {
  "kernelspec": {
   "display_name": "base",
   "language": "python",
   "name": "python3"
  },
  "language_info": {
   "codemirror_mode": {
    "name": "ipython",
    "version": 3
   },
   "file_extension": ".py",
   "mimetype": "text/x-python",
   "name": "python",
   "nbconvert_exporter": "python",
   "pygments_lexer": "ipython3",
   "version": "3.9.12"
  },
  "orig_nbformat": 4
 },
 "nbformat": 4,
 "nbformat_minor": 2
}
