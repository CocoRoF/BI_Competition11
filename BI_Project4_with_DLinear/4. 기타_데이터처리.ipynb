{
 "cells": [
  {
   "cell_type": "code",
   "execution_count": 2,
   "metadata": {},
   "outputs": [],
   "source": [
    "import pandas as pd\n",
    "import numpy as np\n",
    "import os\n",
    "from utils2.Date_Processor import *\n",
    "from utils2.Data_run import arg_set, model_run\n",
    "from datetime import datetime, timedelta\n"
   ]
  },
  {
   "cell_type": "markdown",
   "metadata": {},
   "source": [
    "### 데이터를 1년, 2년, 3년 단위 및 예측기간(3월13~3월19)을 6시간 단위로 쪼갠 기간의 직전 3년 데이터로 나눔"
   ]
  },
  {
   "cell_type": "code",
   "execution_count": 6,
   "metadata": {},
   "outputs": [],
   "source": [
    "temp_list_1nd = range(2012,2023,1)\n",
    "temp_list_2nd = [2012,2014,2016,2018,2020,2021]  # 마지막이 2022~2023되는 문제가 있어서 마지막만 2021로 바꿈\n",
    "temp_list_3nd = [2012,2015,2018,2020,2021]  # 마지막이 2021~2023되는 문제가 있어서, 2020을 추가함."
   ]
  },
  {
   "cell_type": "code",
   "execution_count": null,
   "metadata": {},
   "outputs": [],
   "source": [
    "# 1년 단위 데이터 생성\n",
    "\n",
    "for i in temp_list_3nd:\n",
    "    year_interval = 3\n",
    "    start_year = i\n",
    "    end_year = start_year+year_interval\n",
    "    \n",
    "    date_filter = DateFilter(result_df, date_column='date')\n",
    "    filtered_df = date_filter.filter_by_date(f'{start_year}-06-01', f'{end_year}-06-01')\n",
    "    filtered_df.reset_index(inplace=True, drop=True)\n",
    "    filtered_df = filtered_df.iloc[:-1]\n",
    "    filtered_df.to_csv(f'./Data_Final(실제 모델 입력데이터)/3_year/{start_year}_{end_year}_{year_interval}_result.csv', index=False)"
   ]
  },
  {
   "cell_type": "code",
   "execution_count": null,
   "metadata": {},
   "outputs": [],
   "source": [
    "result_df = pd.read_csv('./Data_Preprocessed(전처리 데이터)/Final_Preprocessed_Data.csv')\n",
    "start_time = '2020-03-13 00:00:00'\n",
    "end_time = '2023-03-12 23:55:00'\n",
    "\n",
    "move_time = timedelta(hours=6)\n",
    "date_format = '%Y-%m-%d %H:%M:%S'\n",
    "start_datetime = datetime.strptime(start_time, date_format)\n",
    "end_datetime = datetime.strptime(end_time, date_format)\n",
    "\n",
    "for i in range(28):\n",
    "    start = str(start_datetime)\n",
    "    end = str(end_datetime)\n",
    "    start_name = start.replace(' ', '_').replace(':', '-')\n",
    "    end_name = end.replace(' ', '_').replace(':', '-')\n",
    "    print(start, end)\n",
    "    \n",
    "    date_filter = DateFilter(result_df, date_column='date')\n",
    "    filtered_df = date_filter.filter_by_date(start, end)\n",
    "    filtered_df.reset_index(inplace=True, drop=True)\n",
    "    filtered_df.to_csv(\"./Data_Final(실제 모델 입력데이터)/predict_period/{}__{}_result.csv\" .format(start_name, end_name), index=False)\n",
    "    \n",
    "    start_datetime = start_datetime + move_time\n",
    "    end_datetime = end_datetime + move_time"
   ]
  },
  {
   "cell_type": "markdown",
   "metadata": {},
   "source": [
    "### 예측 데이터를 바탕으로 실제 예측치오차(MAPE를 산출함)"
   ]
  },
  {
   "cell_type": "code",
   "execution_count": 27,
   "metadata": {},
   "outputs": [],
   "source": [
    "total_df = pd.read_csv('./Data_Preprocessed(전처리 데이터)/Final_Preprocessed_Data.csv')\n",
    "data_folder_list = os.listdir('./results/')"
   ]
  },
  {
   "cell_type": "code",
   "execution_count": 28,
   "metadata": {},
   "outputs": [],
   "source": [
    "colab_list = [element for element in data_folder_list if 'colab' in element]\n",
    "local_list = [element for element in data_folder_list if 'colab' not in element]"
   ]
  },
  {
   "cell_type": "code",
   "execution_count": 29,
   "metadata": {},
   "outputs": [],
   "source": [
    "local_list_1 = [element for element in local_list if '_1_' in element]\n",
    "local_list_2 = [element for element in local_list if '_2_' in element]\n",
    "local_list_3 = [element for element in local_list if '_3_' in element]\n",
    "colab_list_1 = [element for element in colab_list if '_1_' in element]\n",
    "colab_list_2 = [element for element in colab_list if '_2_' in element]\n",
    "colab_list_3 = [element for element in colab_list if '_3_' in element]"
   ]
  },
  {
   "cell_type": "markdown",
   "metadata": {},
   "source": []
  },
  {
   "cell_type": "code",
   "execution_count": 24,
   "metadata": {},
   "outputs": [],
   "source": [
    "def MAPE_search(folder_list):\n",
    "    for i in folder_list:\n",
    "        name = i.split('.csv')[0]\n",
    "        data_path = './results/' + i + '/real_prediction.csv'\n",
    "        temp_df = pd.read_csv(data_path)\n",
    "        mean_mape = error_cal(total_df, temp_df, method='mape')\n",
    "        \n",
    "        print(f'File_Name : {name}, Mean_MAPE : {mean_mape}')\n",
    "    "
   ]
  },
  {
   "cell_type": "code",
   "execution_count": 32,
   "metadata": {},
   "outputs": [
    {
     "name": "stdout",
     "output_type": "stream",
     "text": [
      "File_Name : D_Linear_2012_2014_2_result, Mean_MAPE : 0.03918087126044353\n",
      "File_Name : D_Linear_2014_2016_2_result, Mean_MAPE : 0.030707298895060037\n",
      "File_Name : D_Linear_2016_2018_2_result, Mean_MAPE : 0.025074300376841344\n",
      "File_Name : D_Linear_2018_2020_2_result, Mean_MAPE : 0.025084640516588538\n",
      "File_Name : D_Linear_2020_2022_2_result, Mean_MAPE : 0.046750485961244086\n",
      "File_Name : D_Linear_2021_2023_2_result, Mean_MAPE : 0.007381055621748681\n"
     ]
    }
   ],
   "source": [
    "MAPE_search(local_list_2)"
   ]
  },
  {
   "cell_type": "code",
   "execution_count": null,
   "metadata": {},
   "outputs": [],
   "source": []
  }
 ],
 "metadata": {
  "kernelspec": {
   "display_name": "base",
   "language": "python",
   "name": "python3"
  },
  "language_info": {
   "codemirror_mode": {
    "name": "ipython",
    "version": 3
   },
   "file_extension": ".py",
   "mimetype": "text/x-python",
   "name": "python",
   "nbconvert_exporter": "python",
   "pygments_lexer": "ipython3",
   "version": "3.9.13"
  },
  "orig_nbformat": 4
 },
 "nbformat": 4,
 "nbformat_minor": 2
}
